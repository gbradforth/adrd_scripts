{
 "cells": [
  {
   "cell_type": "markdown",
   "id": "7fcc7d11",
   "metadata": {},
   "source": [
    "Combines all the tables (generated from generate_table)."
   ]
  },
  {
   "cell_type": "code",
   "execution_count": 5,
   "id": "1ae315e2",
   "metadata": {
    "scrolled": true
   },
   "outputs": [
    {
     "name": "stdout",
     "output_type": "stream",
     "text": [
      "Results saved to 'tables/secondMost'\n"
     ]
    }
   ],
   "source": [
    "import os\n",
    "import sys\n",
    "import csv\n",
    "\n",
    "#INSERT TABLE DIRECTORY HERE\n",
    "directory_path = \"tables/secondMost\" \n",
    "\n",
    "if not os.path.isdir(directory_path):\n",
    "    print(f\"Dir '{directory_path}' doesn't exist\")\n",
    "    sys.exit()\n",
    "\n",
    "# Dictionary to store word frequencies per segment number\n",
    "word_freq = {}\n",
    "\n",
    "# Loop through each file in the directory\n",
    "for filename in os.listdir(directory_path):\n",
    "    if filename.endswith(\".csv\"):\n",
    "        file_path = os.path.join(directory_path, filename)\n",
    "        # print(\"Now reading \" + file_path)\n",
    "        with open(file_path, 'r') as csv_file:\n",
    "            csv_reader = csv.reader(csv_file)\n",
    "            header = next(csv_reader)  # Read the header\n",
    "        \n",
    "            for row in csv_reader:\n",
    "                word = row[0]\n",
    "                counts = []\n",
    "                if (word in word_freq):\n",
    "                    current_counts = word_freq[word]\n",
    "                    new_counts = [row[i] for i in range(1,17)]\n",
    "                    for i in range(0,16):\n",
    "                        counts.append(int(current_counts[i]) + int(new_counts[i]))\n",
    "                else:\n",
    "                    for i in range(1,17):\n",
    "                        counts.append(row[i])\n",
    "                word_freq[word] = counts\n",
    "                \n",
    "combined_file_path = 'tables/combined_results.csv'\n",
    "    \n",
    "header = [\"Word\", \"Background\", \"Mother\", \"Daughter\", \"Son\", \"Cupboard\", \"CookieJar\", \"Cookie\", \"Stool\", \"DishAndRag\", \"Sink\", \"Water\", \"Curtain\", \"Outdoors\", \"Dishes\", \"Countertops\",\"Total\"]\n",
    "with open(combined_file_path, 'w', newline='') as combined_csv:\n",
    "    writer = csv.writer(combined_csv)\n",
    "    writer.writerow(header)\n",
    "\n",
    "    for word, freq_per_segment in word_freq.items():\n",
    "        total_count = sum([int(freq) for freq in freq_per_segment])  # Calculate total count for the word\n",
    "        row_data = [word] + freq_per_segment + [total_count]\n",
    "        writer.writerow(row_data)\n",
    "    \n",
    "print(f\"Results saved to '{directory_path}'\")"
   ]
  }
 ],
 "metadata": {
  "kernelspec": {
   "display_name": "Python 3 (ipykernel)",
   "language": "python",
   "name": "python3"
  },
  "language_info": {
   "codemirror_mode": {
    "name": "ipython",
    "version": 3
   },
   "file_extension": ".py",
   "mimetype": "text/x-python",
   "name": "python",
   "nbconvert_exporter": "python",
   "pygments_lexer": "ipython3",
   "version": "3.10.13"
  }
 },
 "nbformat": 4,
 "nbformat_minor": 5
}
