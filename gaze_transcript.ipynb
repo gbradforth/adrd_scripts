{
 "cells": [
  {
   "cell_type": "markdown",
   "id": "0c31cfae",
   "metadata": {},
   "source": [
    "This code concatenates each word from the transcript yaml file with the eye data at the time the word was said. Outputs into another yaml file. "
   ]
  },
  {
   "cell_type": "code",
   "execution_count": 40,
   "id": "1ae315e2",
   "metadata": {
    "scrolled": true
   },
   "outputs": [
    {
     "name": "stdout",
     "output_type": "stream",
     "text": [
      "Results saved to './realigned/PC0039_red_transcript_aligned_eyegaze.yaml'\n"
     ]
    }
   ],
   "source": [
    "import os\n",
    "import sys\n",
    "import csv\n",
    "import yaml\n",
    "\n",
    "# name of the csv file containing eyedata\n",
    "eyedata_filename = \"../cookietheftdata/PC0039/PC0039_red_eyegaze_aligned.csv\"\n",
    "\n",
    "# name of the transcript file\n",
    "transcript_filename = \"../cookietheftdata/PC0039/PC0039_red_transcript_par.yaml\" \n",
    "\n",
    "# name of the yaml file to write to\n",
    "text_filename = \"./realigned/PC0039_red_transcript_aligned_eyegaze.yaml\"\n",
    "\n",
    "if not os.path.exists(eyedata_filename):\n",
    "    print(f\"File '{eyedata_filename}' doesn't exist\")\n",
    "    sys.exit()\n",
    "\n",
    "if not os.path.exists(transcript_filename):\n",
    "    print(f\"File '{transcript_filename}' doesn't exist\")\n",
    "    sys.exit()\n",
    "\n",
    "# gets all of the eyedata in, skipping the header\n",
    "with open(eyedata_filename, 'r') as eyedata:\n",
    "    reader = csv.reader(eyedata)\n",
    "    eye_rows = [row for row in reader]\n",
    "    del eye_rows[0]\n",
    "\n",
    "# iterates through the transcript\n",
    "with open(transcript_filename, 'r') as transcript:\n",
    "    data = yaml.safe_load(transcript)\n",
    "\n",
    "results = []\n",
    "\n",
    "# iterates through transcript and grabs end, start, and word, then appends the coords\n",
    "for entry in data:\n",
    "    if not 'result' in entry:\n",
    "        continue\n",
    "        \n",
    "    for word_data in entry['result']:\n",
    "        end = word_data.get('end', None)\n",
    "        start = word_data.get('start', None)\n",
    "        word = word_data.get('word', None)\n",
    "        \n",
    "        # if start or end are blank, it will break\n",
    "        if start is None or end is None:\n",
    "            raise ValueError(\"ERROR: No start or end time.\")\n",
    "        \n",
    "        array = []\n",
    "        # with the given start and end times, construct an array of coordinates from \n",
    "        # the eyedata file between those times, given the offset\n",
    "        for i in range(1, len(eye_rows) - 1):\n",
    "            if eye_rows[i][0] == '':\n",
    "                continue\n",
    "\n",
    "            if float(eye_rows[i][1]) > float(end):\n",
    "                break\n",
    "            \n",
    "            if float(start) <= float(eye_rows[i][1]) <= float(end):\n",
    "                point = [eye_rows[i][2], eye_rows[i][3]]\n",
    "                array.append(point)\n",
    "\n",
    "        new_entry = { \n",
    "            'end': end,\n",
    "            'start': start,\n",
    "            'word': word,\n",
    "            'coords': array\n",
    "        }\n",
    "        \n",
    "        results.append(new_entry)\n",
    "    \n",
    "with open(text_filename, 'w') as yamlf:\n",
    "    yaml.dump(results, yamlf, default_flow_style=None, sort_keys=False)\n",
    "\n",
    "print(f\"Results saved to '{text_filename}'\")"
   ]
  },
  {
   "cell_type": "markdown",
   "id": "d80a1dbf",
   "metadata": {},
   "source": []
  },
  {
   "cell_type": "code",
   "execution_count": null,
   "id": "a2332edb",
   "metadata": {},
   "outputs": [],
   "source": []
  }
 ],
 "metadata": {
  "kernelspec": {
   "display_name": "Python 3 (ipykernel)",
   "language": "python",
   "name": "python3"
  },
  "language_info": {
   "codemirror_mode": {
    "name": "ipython",
    "version": 3
   },
   "file_extension": ".py",
   "mimetype": "text/x-python",
   "name": "python",
   "nbconvert_exporter": "python",
   "pygments_lexer": "ipython3",
   "version": "3.10.13"
  }
 },
 "nbformat": 4,
 "nbformat_minor": 5
}
