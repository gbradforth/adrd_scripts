{
 "cells": [
  {
   "cell_type": "markdown",
   "id": "d352e54b",
   "metadata": {},
   "source": [
    "This code generates a table from the segment transcript file to a table of each word, and it's primary associated segment. Can be done with Unknowns (-1) included or not. Some code will need to be commented out."
   ]
  },
  {
   "cell_type": "code",
   "execution_count": 5,
   "id": "1ae315e2",
   "metadata": {
    "scrolled": true
   },
   "outputs": [
    {
     "name": "stdout",
     "output_type": "stream",
     "text": [
      "Results saved to './tables/normal/PC0004_table_aligned.csv'\n"
     ]
    }
   ],
   "source": [
    "import os\n",
    "import sys\n",
    "import csv\n",
    "import yaml\n",
    "\n",
    "# name of the transcript file (should be a segment transcript)\n",
    "transcript_filename = \"../cookietheftdata/PC0004/PC0004_transcript_aligned_segments.yaml\" \n",
    "\n",
    "# name of the csv file to write to\n",
    "csv_filename = \"./tables/normal/PC0004_table_aligned.csv\"\n",
    "\n",
    "if not os.path.exists(transcript_filename):\n",
    "    print(f\"File '{transcript_filename}' doesn't exist\")\n",
    "    sys.exit()\n",
    "\n",
    "with open(transcript_filename, 'r') as transcript:\n",
    "    data = yaml.safe_load(transcript)\n",
    "\n",
    "all_words = set()\n",
    "\n",
    "table = {}\n",
    "\n",
    "for entry in data:\n",
    "    \n",
    "    word = entry.get('word', None)\n",
    "    if word is None:\n",
    "        #continue\n",
    "        raise ValueError(\"ERROR: No word.\")\n",
    "\n",
    "\n",
    "    segments = entry.get('segment', None)\n",
    "    \n",
    "    if word not in all_words:\n",
    "        all_words.add(word)\n",
    "        table[word] = [0] * 16\n",
    "\n",
    "    seg_counts = [0] * 16\n",
    "\n",
    "    for seg in segments:\n",
    "        seg_counts[int(seg)] += 1\n",
    "\n",
    "\n",
    "    maxSeg = 0\n",
    "    # secondMaxSeg = 0; #COMMENT OUT FOR MC\n",
    "    for currSeg in range(len(seg_counts)):\n",
    "    \n",
    "        if seg_counts[currSeg] > seg_counts[maxSeg]:\n",
    "            # secondMaxSeg = maxSeg #COMMENT OUT FOR MC\n",
    "            maxSeg = currSeg\n",
    "        \n",
    "        # elif seg_counts[currSeg] > seg_counts[secondMaxSeg]: #COMMENT OUT FOR MC\n",
    "        #     secondMaxSeg = currSeg #COMMENT OUT FOR MC\n",
    "            \n",
    "    # if maxSeg == 15: #COMMENT OUT FOR MC\n",
    "    #     table[word][secondMaxSeg] += 1 #COMMENT OUT FOR MC\n",
    "    # else:\n",
    "    table[word][maxSeg] += 1\n",
    "        \n",
    "write_array = []\n",
    "\n",
    "# write_array.append([\"Word\", \"0\", \"1\", \"2\", \"3\", \"4\", \"5\", \"6\", \"7\", \"8\", \"9\", \"10\", \"11\", \"12\", \"13\", \"14\", \"-1\"])\n",
    "write_array.append([\"Word\", \"Background\", \"Mother\", \"Daughter\", \"Son\", \"Cupboard\", \"CookieJar\", \"Cookie\", \"Stool\", \"DishAndRag\", \"Sink\", \"Water\", \"Curtain\", \"Outdoors\", \"Dishes\", \"Countertops\"])\n",
    "\n",
    "for entry in table:\n",
    "    word_segs = []\n",
    "    word_segs.append(entry)\n",
    "    \n",
    "    for num in table[entry]:\n",
    "        word_segs.append(num)\n",
    "\n",
    "    write_array.append(word_segs)\n",
    "\n",
    "    \n",
    "with open(csv_filename, mode = 'w', newline = '') as file:\n",
    "    writer = csv.writer(file)\n",
    "    writer.writerows(write_array)\n",
    "    \n",
    "print(f\"Results saved to '{csv_filename}'\")"
   ]
  },
  {
   "cell_type": "code",
   "execution_count": null,
   "id": "a2332edb",
   "metadata": {},
   "outputs": [],
   "source": []
  }
 ],
 "metadata": {
  "kernelspec": {
   "display_name": "Python 3 (ipykernel)",
   "language": "python",
   "name": "python3"
  },
  "language_info": {
   "codemirror_mode": {
    "name": "ipython",
    "version": 3
   },
   "file_extension": ".py",
   "mimetype": "text/x-python",
   "name": "python",
   "nbconvert_exporter": "python",
   "pygments_lexer": "ipython3",
   "version": "3.10.13"
  }
 },
 "nbformat": 4,
 "nbformat_minor": 5
}
