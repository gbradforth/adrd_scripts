{
  "cells": [
    {
      "cell_type": "markdown",
      "metadata": {},
      "source": [
        "This code is for detecting time overlap due to human error in the yaml files."
      ]
    },
    {
      "cell_type": "code",
      "execution_count": 5,
      "metadata": {
        "id": "EoDCTXe26Y3K"
      },
      "outputs": [],
      "source": [
        "##use this code to copy in a new file all the text part and just keep result: {conf: 1.0, end: ,start: , word: }, {conf: 1.0, end: ,start: , word: }\n",
        "\n",
        "#make sure that your yaml file starts with \"result:\" as first line and the second line is \"-conf: ..\"\n",
        "##something like this:\n",
        "\n",
        "'''\n",
        "result:\n",
        "  - conf: 1.0\n",
        "    end: 0.48\n",
        "    start: 0.27\n",
        "    word: two\n",
        "'''\n",
        "\n",
        "import re\n",
        "import yaml\n",
        "\n",
        "def remove_text_sections_from_yaml(file_path, new_file_path):\n",
        "    with open(file_path, 'r', encoding='utf-8') as file:\n",
        "        content = file.read()\n",
        "\n",
        "    pattern = re.compile(r'text:.*?(?=result:)', re.DOTALL)\n",
        "    modified_content = re.sub(pattern, '', content)\n",
        "    modified_content = modified_content.replace('result:', '')\n",
        "\n",
        "    # Loading the modified content as a dictionary\n",
        "    data_dict = yaml.safe_load(modified_content)\n",
        "\n",
        "    # Prepare the final content with \"result:\" at the beginning\n",
        "    final_content = {\"result\": data_dict}\n",
        "\n",
        "    # Convert the final content back to YAML format\n",
        "    final_yaml = yaml.dump(final_content, sort_keys=False, allow_unicode=True)\n",
        "\n",
        "    with open(new_file_path, 'w', encoding='utf-8') as new_file:\n",
        "        new_file.write(final_yaml)\n",
        "# Example usage\n",
        "file_path = './transcripts/PC0004_transcript_par.yaml' # Replace with the path to your original file\n",
        "new_file_path = './transcipts/newfilePC0001.yaml' # Replace with the path where you want to save the new file\n",
        "\n",
        "# Uncomment the following line to execute the function with your file paths\n",
        "#\n",
        "remove_text_sections_from_yaml(file_path, file_path)\n"
      ]
    },
    {
      "cell_type": "code",
      "execution_count": 6,
      "metadata": {
        "id": "J-_rE9QN8vam"
      },
      "outputs": [
        {
          "name": "stdout",
          "output_type": "stream",
          "text": [
            "{}\n"
          ]
        }
      ],
      "source": [
        "##Now we track overlaps\n",
        "import os\n",
        "import yaml\n",
        "\n",
        "def check_overlaps(data):\n",
        "    overlaps = []\n",
        "    \n",
        "    data = data[\"result\"]\n",
        "    data = data[0]\n",
        "    # print(len(data), data)\n",
        "    for i in range(len(data) - 1):\n",
        "        for j in range(i + 1, len(data) - 1):\n",
        "            # print(data[i], data[j])\n",
        "            if data[i][\"end\"] > data[j][\"start\"]:\n",
        "                overlap_case = (data[i][\"word\"], data[i][\"start\"], data[i][\"end\"] , data[j][\"word\"], data[j][\"start\"], data[j][\"end\"])\n",
        "                overlaps.append(overlap_case)\n",
        "    return overlaps\n",
        "\n",
        "def main(directory_path):\n",
        "    overlap_results = {}\n",
        "    for file_name in os.listdir(directory_path):\n",
        "        if file_name.endswith('.yaml'):\n",
        "            # print(file_name)\n",
        "            file_path = os.path.join(directory_path, file_name)\n",
        "            with open(file_path, 'r') as file:\n",
        "                data = yaml.safe_load(file)\n",
        "                overlaps = check_overlaps(data)\n",
        "                if overlaps:\n",
        "                    overlap_results[file_name] = overlaps\n",
        "    return overlap_results\n",
        "\n",
        "# Use the function for your directory\n",
        "directory_path = './transcripts/'\n",
        "overlap_results = main(directory_path)\n",
        "print(overlap_results)\n"
      ]
    }
  ],
  "metadata": {
    "colab": {
      "provenance": []
    },
    "kernelspec": {
      "display_name": "Python 3",
      "name": "python3"
    },
    "language_info": {
      "codemirror_mode": {
        "name": "ipython",
        "version": 3
      },
      "file_extension": ".py",
      "mimetype": "text/x-python",
      "name": "python",
      "nbconvert_exporter": "python",
      "pygments_lexer": "ipython3",
      "version": "3.10.13"
    }
  },
  "nbformat": 4,
  "nbformat_minor": 0
}
