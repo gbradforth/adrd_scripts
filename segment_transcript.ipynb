{
 "cells": [
  {
   "cell_type": "markdown",
   "id": "8332af6d",
   "metadata": {},
   "source": [
    "This code adds segment numbers to the transcript file, according to the time."
   ]
  },
  {
   "cell_type": "code",
   "execution_count": 90,
   "id": "1ae315e2",
   "metadata": {
    "scrolled": true
   },
   "outputs": [
    {
     "name": "stdout",
     "output_type": "stream",
     "text": [
      "1.8574677786201668% data lost\n"
     ]
    }
   ],
   "source": [
    "import os\n",
    "import sys\n",
    "import csv\n",
    "import yaml\n",
    "import math\n",
    "\n",
    "# name of the csv file containing eyedata\n",
    "eyedata_filename = \"../cookietheftdata/PC0039/PC0039_red_eyegaze_aligned.csv\"\n",
    "\n",
    "# name of the transcript file\n",
    "transcript_filename = \"../cookietheftdata/PC0039/PC0039_red_transcript_par.yaml\" \n",
    "\n",
    "# file that maps segments to coordinates\n",
    "map_file = \"./output_array_but_better.csv\"\n",
    "\n",
    "if not os.path.exists(eyedata_filename):\n",
    "    print(f\"File '{eyedata_filename}' doesn't exist\")\n",
    "    sys.exit()\n",
    "\n",
    "if not os.path.exists(transcript_filename):\n",
    "    print(f\"File '{transcript_filename}' doesn't exist\")\n",
    "    sys.exit()\n",
    "\n",
    "# Open mapping file for reading\n",
    "with open(map_file,'r') as map:\n",
    "    reader = csv.reader(map)\n",
    "    map_array = [row for row in reader]\n",
    "\n",
    "# Get image_map dimensions\n",
    "    image_width, image_height = len(map_array[0]), len(map_array)\n",
    "\n",
    "# gets all of the eyedata in, skipping the header\n",
    "with open(eyedata_filename, 'r') as eyedata:\n",
    "    reader = csv.reader(eyedata)\n",
    "    eye_rows = [row for row in reader]\n",
    "    del eye_rows[0]\n",
    "\n",
    "# iterates through the transcript\n",
    "with open(transcript_filename, 'r') as transcript:\n",
    "    data = yaml.safe_load(transcript)\n",
    "\n",
    "results = []\n",
    "totalcount = 0\n",
    "count = 0\n",
    "\n",
    "# iterates through transcript and grabs end, start, and word, then appends the coords\n",
    "for entry in data:\n",
    "    if not 'result' in entry:\n",
    "        continue\n",
    "        \n",
    "    for word_data in entry['result']:\n",
    "        end = word_data.get('end', None)\n",
    "        start = word_data.get('start', None)\n",
    "        word = word_data.get('word', None)\n",
    "        \n",
    "        # if start or end are blank, it will break\n",
    "        if start is None or end is None:\n",
    "            raise ValueError(\"ERROR: No start or end time.\")\n",
    "        \n",
    "        array = []\n",
    "        \n",
    "        # with the given start and end times, construct an array of coordinates from \n",
    "        # the eyedata file between those times, given the offset\n",
    "        for i in range(1, len(eye_rows) - 1):\n",
    "            if eye_rows[i][0] == '':\n",
    "                continue\n",
    "            \n",
    "            if float(eye_rows[i][1]) > float(end):\n",
    "                break\n",
    "            \n",
    "            if float(start) <= float(eye_rows[i][1]) <= float(end):\n",
    "                \n",
    "                if (math.isnan(float(eye_rows[i][2])) or math.isnan(float(eye_rows[i][3]))):\n",
    "                    # print(float(eye_rows[i][2]),float(eye_rows[i][3]))\n",
    "                    count += 1\n",
    "                    segment = \"-1\"\n",
    "                elif (0 <= round(float(eye_rows[i][2]) * image_width) < image_width and 0 <= round(float(eye_rows[i][3]) * image_height) < image_height):\n",
    "                    # print(round(float(eye_rows[i][2]) * image_width),round(float(eye_rows[i][3]) * image_height))\n",
    "                    pixel_x = round(float(eye_rows[i][2]) * image_width)\n",
    "                    pixel_y = round(float(eye_rows[i][3]) * image_height)\n",
    "                    segment = map_array[pixel_y][pixel_x]\n",
    "                else:\n",
    "                    # print(float(eye_rows[i][2]),float(eye_rows[i][3]))\n",
    "                    count += 1\n",
    "                    segment = \"-1\"\n",
    "                totalcount += 1\n",
    "                array.append(segment)\n",
    "\n",
    "        new_entry = { \n",
    "            'end': end,\n",
    "            'start': start,\n",
    "            'word': word,\n",
    "            'segment': array\n",
    "        }\n",
    "        \n",
    "        results.append(new_entry)\n",
    "print(str(count/totalcount * 100) + \"% data lost\")"
   ]
  },
  {
   "cell_type": "code",
   "execution_count": 91,
   "id": "a2332edb",
   "metadata": {},
   "outputs": [
    {
     "name": "stdout",
     "output_type": "stream",
     "text": [
      "Results saved to './realigned/PC0039_red_transcript_aligned_segments.yaml'\n"
     ]
    }
   ],
   "source": [
    "# name of the yaml file to write to\n",
    "text_filename = \"./realigned/PC0039_red_transcript_aligned_segments.yaml\"\n",
    "\n",
    "with open(text_filename, 'w') as yamlf:\n",
    "    yaml.dump(results, yamlf, default_flow_style=None, sort_keys=False)\n",
    "\n",
    "print(f\"Results saved to '{text_filename}'\")"
   ]
  }
 ],
 "metadata": {
  "kernelspec": {
   "display_name": "Python 3 (ipykernel)",
   "language": "python",
   "name": "python3"
  },
  "language_info": {
   "codemirror_mode": {
    "name": "ipython",
    "version": 3
   },
   "file_extension": ".py",
   "mimetype": "text/x-python",
   "name": "python",
   "nbconvert_exporter": "python",
   "pygments_lexer": "ipython3",
   "version": "3.10.13"
  }
 },
 "nbformat": 4,
 "nbformat_minor": 5
}
